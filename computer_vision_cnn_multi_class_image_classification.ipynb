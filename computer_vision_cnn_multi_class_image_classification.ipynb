{
  "nbformat": 4,
  "nbformat_minor": 0,
  "metadata": {
    "colab": {
      "name": "computer-vision-cnn-multi-class-image-classification",
      "provenance": [],
      "collapsed_sections": [],
      "mount_file_id": "10LbPHKvnqGRaXjfGwvyGb-sYowVy4xsR",
      "authorship_tag": "ABX9TyNrWDKT8oWLWwmw8iLC5dgf",
      "include_colab_link": true
    },
    "kernelspec": {
      "name": "python3",
      "display_name": "Python 3"
    },
    "language_info": {
      "name": "python"
    }
  },
  "cells": [
    {
      "cell_type": "markdown",
      "metadata": {
        "id": "view-in-github",
        "colab_type": "text"
      },
      "source": [
        "<a href=\"https://colab.research.google.com/github/hecshzye/food-or-not-model/blob/main/computer_vision_cnn_multi_class_image_classification.ipynb\" target=\"_parent\"><img src=\"https://colab.research.google.com/assets/colab-badge.svg\" alt=\"Open In Colab\"/></a>"
      ]
    },
    {
      "cell_type": "markdown",
      "source": [
        "# Convolutional Neural Network and Computer Vision with TensorFlow (Multi-class)\n"
      ],
      "metadata": {
        "id": "4ch-ViXTbAMG"
      }
    },
    {
      "cell_type": "markdown",
      "source": [
        "This is a practice and rough work notebook for the upcoming CNN & Computer Vision projects (food-or-not)\n",
        "If something from this practice notebook looks meaningful or helpful, please do not hesitate to work on it or experiment further"
      ],
      "metadata": {
        "id": "PKsu0u6lb8yG"
      }
    },
    {
      "cell_type": "markdown",
      "source": [
        "Working with the food-101 dataset from Kaggle - https://www.kaggle.com/dansbecker/food-101"
      ],
      "metadata": {
        "id": "q2aypE5eciGK"
      }
    },
    {
      "cell_type": "code",
      "source": [
        ""
      ],
      "metadata": {
        "id": "O3rRHdJAcv5p"
      },
      "execution_count": null,
      "outputs": []
    }
  ]
}