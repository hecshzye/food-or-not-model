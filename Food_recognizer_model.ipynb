{
  "nbformat": 4,
  "nbformat_minor": 0,
  "metadata": {
    "colab": {
      "name": "Food-recognizer-model.ipynb",
      "provenance": [],
      "collapsed_sections": [],
      "authorship_tag": "ABX9TyMtndoEB3wYtkliPCejul8n",
      "include_colab_link": true
    },
    "kernelspec": {
      "name": "python3",
      "display_name": "Python 3"
    },
    "language_info": {
      "name": "python"
    }
  },
  "cells": [
    {
      "cell_type": "markdown",
      "metadata": {
        "id": "view-in-github",
        "colab_type": "text"
      },
      "source": [
        "<a href=\"https://colab.research.google.com/github/hecshzye/food-or-not-model/blob/main/Food_recognizer_model.ipynb\" target=\"_parent\"><img src=\"https://colab.research.google.com/assets/colab-badge.svg\" alt=\"Open In Colab\"/></a>"
      ]
    },
    {
      "cell_type": "markdown",
      "source": [
        "# Food-recognizer computer vision modelling"
      ],
      "metadata": {
        "id": "KDvqnQP2SJ2l"
      }
    },
    {
      "cell_type": "markdown",
      "source": [
        "### A computer vision model trained on dataset from TensorFlow Datasets\n",
        "- Training data = 75750 images\n",
        "- Testing data = 25,250 images\n",
        "- Using mixed precision"
      ],
      "metadata": {
        "id": "gDLfeD7USFc0"
      }
    },
    {
      "cell_type": "markdown",
      "source": [
        "### Goals\n",
        "- The goal is to match or beat the `DeepFood Research Paper` - https://arxiv.org/abs/1606.05675\n",
        "- Researchers used a `Convolutional Neural Network`.\n",
        "- Trained the model for couple of days\n",
        "- The `top accuracy` achieved was `77.4%`\n",
        "- The research focused on Computer-Aided Dietary Assesment\n",
        "- It states the following concerns \n",
        "  - \"Worldwide, in 2014, almost 2 billion adults, 18+, were overweight. Of these, over 600 million were obese. \n",
        "  - Accurately documenting dietary caloric intake is crucial to manage weight loss, but also presents challenges because most of the current methods for dietary assessment must rely on memory to recall foods eaten. \n",
        "  - The ultimate goal of the research is to develop a computer-aided techinical solutions to enhance and improve the accuracy of current measurements of dietary intake. \n",
        "  - The proposed system in this paper aims to improve the accuracy of dietary assessment by analyzing food images captured by mobile devices. \n",
        "  - The key techinique innovation in this paper is the deep learning based food image recognitiion algorithms. Substantial research has demonstrated that digital imaging accurately estimates dietary intake in many environments and it has many advantages over other methods.\n"
      ],
      "metadata": {
        "id": "ieuu68UOTzgr"
      }
    }
  ]
}